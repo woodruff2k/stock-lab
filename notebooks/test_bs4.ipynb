{
 "cells": [
  {
   "cell_type": "code",
   "execution_count": 1,
   "id": "773618a8",
   "metadata": {},
   "outputs": [],
   "source": [
    "from bs4 import BeautifulSoup\n",
    "import re"
   ]
  },
  {
   "cell_type": "markdown",
   "id": "e8bef01c",
   "metadata": {},
   "source": [
    "# get_news_section"
   ]
  },
  {
   "cell_type": "code",
   "execution_count": 2,
   "id": "0fd53a55",
   "metadata": {},
   "outputs": [],
   "source": [
    "html_doc = \"\"\"\n",
    "<html>\n",
    "    <head>\n",
    "        <title>Home</title>\n",
    "    </head>\n",
    "    <body>\n",
    "        <div class=\"section\">\n",
    "            <h2>영역 제목</h2>\n",
    "                <ul> \n",
    "                    <li><a href=\"/news/news1\">기사 제목1</a></li>\n",
    "                    <li><a href=\"/news/news2\">기사 제목2</a></li>\n",
    "                    <li><a href=\"/news/news3\">기사 제목3</a></li>\n",
    "                </ul>\n",
    "        </div>\n",
    "    </body>\n",
    "</html>\n",
    "\"\"\""
   ]
  },
  {
   "cell_type": "code",
   "execution_count": 3,
   "id": "1c6beea0",
   "metadata": {},
   "outputs": [
    {
     "name": "stdout",
     "output_type": "stream",
     "text": [
      "<html>\n",
      " <head>\n",
      "  <title>\n",
      "   Home\n",
      "  </title>\n",
      " </head>\n",
      " <body>\n",
      "  <div class=\"section\">\n",
      "   <h2>\n",
      "    영역 제목\n",
      "   </h2>\n",
      "   <ul>\n",
      "    <li>\n",
      "     <a href=\"/news/news1\">\n",
      "      기사 제목1\n",
      "     </a>\n",
      "    </li>\n",
      "    <li>\n",
      "     <a href=\"/news/news2\">\n",
      "      기사 제목2\n",
      "     </a>\n",
      "    </li>\n",
      "    <li>\n",
      "     <a href=\"/news/news3\">\n",
      "      기사 제목3\n",
      "     </a>\n",
      "    </li>\n",
      "   </ul>\n",
      "  </div>\n",
      " </body>\n",
      "</html>\n",
      "\n"
     ]
    }
   ],
   "source": [
    "soup = BeautifulSoup(html_doc, 'html.parser')\n",
    "# print(soup)\n",
    "print(soup.prettify())"
   ]
  },
  {
   "cell_type": "code",
   "execution_count": 4,
   "id": "46883345",
   "metadata": {},
   "outputs": [
    {
     "name": "stdout",
     "output_type": "stream",
     "text": [
      "<title>Home</title>\n"
     ]
    }
   ],
   "source": [
    "print(soup.title)"
   ]
  },
  {
   "cell_type": "code",
   "execution_count": 5,
   "id": "6c3326cd",
   "metadata": {},
   "outputs": [
    {
     "name": "stdout",
     "output_type": "stream",
     "text": [
      "Home\n"
     ]
    }
   ],
   "source": [
    "print(soup.title.string)"
   ]
  },
  {
   "cell_type": "code",
   "execution_count": 6,
   "id": "564b4805",
   "metadata": {},
   "outputs": [
    {
     "name": "stdout",
     "output_type": "stream",
     "text": [
      "head\n"
     ]
    }
   ],
   "source": [
    "print(soup.title.parent.name)"
   ]
  },
  {
   "cell_type": "code",
   "execution_count": 7,
   "id": "88e6c308",
   "metadata": {},
   "outputs": [
    {
     "name": "stdout",
     "output_type": "stream",
     "text": [
      "<div class=\"section\">\n",
      "<h2>영역 제목</h2>\n",
      "<ul>\n",
      "<li><a href=\"/news/news1\">기사 제목1</a></li>\n",
      "<li><a href=\"/news/news2\">기사 제목2</a></li>\n",
      "<li><a href=\"/news/news3\">기사 제목3</a></li>\n",
      "</ul>\n",
      "</div>\n"
     ]
    }
   ],
   "source": [
    "print(soup.div)"
   ]
  },
  {
   "cell_type": "code",
   "execution_count": 8,
   "id": "ae1e12b9",
   "metadata": {},
   "outputs": [
    {
     "name": "stdout",
     "output_type": "stream",
     "text": [
      "['section']\n"
     ]
    }
   ],
   "source": [
    "print(soup.div['class'])"
   ]
  },
  {
   "cell_type": "code",
   "execution_count": 9,
   "id": "2d6b397a",
   "metadata": {},
   "outputs": [
    {
     "name": "stdout",
     "output_type": "stream",
     "text": [
      "<li><a href=\"/news/news1\">기사 제목1</a></li>\n"
     ]
    }
   ],
   "source": [
    "print(soup.li)"
   ]
  },
  {
   "cell_type": "code",
   "execution_count": 10,
   "id": "26931df2",
   "metadata": {},
   "outputs": [
    {
     "name": "stdout",
     "output_type": "stream",
     "text": [
      "[<li><a href=\"/news/news1\">기사 제목1</a></li>, <li><a href=\"/news/news2\">기사 제목2</a></li>, <li><a href=\"/news/news3\">기사 제목3</a></li>]\n"
     ]
    }
   ],
   "source": [
    "print(soup.find_all('li'))"
   ]
  },
  {
   "cell_type": "code",
   "execution_count": 11,
   "id": "dc676190",
   "metadata": {},
   "outputs": [
    {
     "name": "stdout",
     "output_type": "stream",
     "text": [
      "[<div class=\"section\">\n",
      "<h2>영역 제목</h2>\n",
      "<ul>\n",
      "<li><a href=\"/news/news1\">기사 제목1</a></li>\n",
      "<li><a href=\"/news/news2\">기사 제목2</a></li>\n",
      "<li><a href=\"/news/news3\">기사 제목3</a></li>\n",
      "</ul>\n",
      "</div>]\n"
     ]
    }
   ],
   "source": [
    "print(soup.find_all(class_=\"section\"))"
   ]
  },
  {
   "cell_type": "code",
   "execution_count": 12,
   "id": "518f0f71",
   "metadata": {},
   "outputs": [
    {
     "name": "stdout",
     "output_type": "stream",
     "text": [
      "[<a href=\"/news/news1\">기사 제목1</a>, <a href=\"/news/news2\">기사 제목2</a>, <a href=\"/news/news3\">기사 제목3</a>]\n"
     ]
    }
   ],
   "source": [
    "print(soup.find_all(href=re.compile(\"/news\")))"
   ]
  },
  {
   "cell_type": "code",
   "execution_count": 13,
   "id": "b590e932",
   "metadata": {},
   "outputs": [
    {
     "name": "stdout",
     "output_type": "stream",
     "text": [
      "/news/news1\n",
      "기사 제목1\n",
      "/news/news2\n",
      "기사 제목2\n",
      "/news/news3\n",
      "기사 제목3\n"
     ]
    }
   ],
   "source": [
    "news_list = soup.find_all(href=re.compile(\"/news\"))\n",
    "for news in news_list:\n",
    "    print(news[\"href\"])\n",
    "    print(news.string)"
   ]
  },
  {
   "cell_type": "markdown",
   "id": "c540c011",
   "metadata": {},
   "source": [
    "# get_side"
   ]
  },
  {
   "cell_type": "code",
   "execution_count": 14,
   "id": "67524d39",
   "metadata": {},
   "outputs": [],
   "source": [
    "html_table = \"\"\"\n",
    "<html>\n",
    "    <div class=\"aside_section\"> \n",
    "        <table class=\"tbl\"> \n",
    "            <thead>\n",
    "                <tr> \n",
    "                    <th scope=\"col\">컬럼1</th> \n",
    "                    <th scope=\"col\">컬럼2</th> \n",
    "                </tr> \n",
    "            </thead>\n",
    "            <tbody>\n",
    "            <tr> \n",
    "                <th><a href=\"/aside1\">항목1</a></th> \n",
    "                <td>항목1값1</td> \n",
    "                <td>항목1값2</td> \n",
    "            </tr>\n",
    "            <tr>\n",
    "                <th><a href=\"/aside2\">항목2</a></th> \n",
    "                <td>항목2값1</td> \n",
    "                <td>항목2값2</td> \n",
    "            </tr>\n",
    "            </tbody>\n",
    "        </table>\n",
    "    </div>\n",
    "</html>\n",
    "\"\"\""
   ]
  },
  {
   "cell_type": "code",
   "execution_count": 15,
   "id": "68b499cd",
   "metadata": {},
   "outputs": [
    {
     "name": "stdout",
     "output_type": "stream",
     "text": [
      "<html>\n",
      " <div class=\"aside_section\">\n",
      "  <table class=\"tbl\">\n",
      "   <thead>\n",
      "    <tr>\n",
      "     <th scope=\"col\">\n",
      "      컬럼1\n",
      "     </th>\n",
      "     <th scope=\"col\">\n",
      "      컬럼2\n",
      "     </th>\n",
      "    </tr>\n",
      "   </thead>\n",
      "   <tbody>\n",
      "    <tr>\n",
      "     <th>\n",
      "      <a href=\"/aside1\">\n",
      "       항목1\n",
      "      </a>\n",
      "     </th>\n",
      "     <td>\n",
      "      항목1값1\n",
      "     </td>\n",
      "     <td>\n",
      "      항목1값2\n",
      "     </td>\n",
      "    </tr>\n",
      "    <tr>\n",
      "     <th>\n",
      "      <a href=\"/aside2\">\n",
      "       항목2\n",
      "      </a>\n",
      "     </th>\n",
      "     <td>\n",
      "      항목2값1\n",
      "     </td>\n",
      "     <td>\n",
      "      항목2값2\n",
      "     </td>\n",
      "    </tr>\n",
      "   </tbody>\n",
      "  </table>\n",
      " </div>\n",
      "</html>\n",
      "\n"
     ]
    }
   ],
   "source": [
    "soup = BeautifulSoup(html_table, 'html.parser')\n",
    "# print(soup)\n",
    "print(soup.prettify())"
   ]
  },
  {
   "cell_type": "code",
   "execution_count": 16,
   "id": "2b906a21",
   "metadata": {},
   "outputs": [
    {
     "name": "stdout",
     "output_type": "stream",
     "text": [
      "<table class=\"tbl\">\n",
      "<thead>\n",
      "<tr>\n",
      "<th scope=\"col\">컬럼1</th>\n",
      "<th scope=\"col\">컬럼2</th>\n",
      "</tr>\n",
      "</thead>\n",
      "<tbody>\n",
      "<tr>\n",
      "<th><a href=\"/aside1\">항목1</a></th>\n",
      "<td>항목1값1</td>\n",
      "<td>항목1값2</td>\n",
      "</tr>\n",
      "<tr>\n",
      "<th><a href=\"/aside2\">항목2</a></th>\n",
      "<td>항목2값1</td>\n",
      "<td>항목2값2</td>\n",
      "</tr>\n",
      "</tbody>\n",
      "</table>\n"
     ]
    }
   ],
   "source": [
    "print(soup.table)"
   ]
  },
  {
   "cell_type": "code",
   "execution_count": 17,
   "id": "9d1c2d49",
   "metadata": {},
   "outputs": [
    {
     "name": "stdout",
     "output_type": "stream",
     "text": [
      "[<th scope=\"col\">컬럼1</th>, <th scope=\"col\">컬럼2</th>]\n"
     ]
    }
   ],
   "source": [
    "print(soup.thead.find_all(scope=re.compile(\"col\")))"
   ]
  },
  {
   "cell_type": "code",
   "execution_count": 18,
   "id": "a4d486ff",
   "metadata": {},
   "outputs": [
    {
     "name": "stdout",
     "output_type": "stream",
     "text": [
      "['컬럼1', '컬럼2']\n"
     ]
    }
   ],
   "source": [
    "col_list = [ col.string for col in soup.thead.find_all(scope=re.compile(\"col\"))]\n",
    "print(col_list)"
   ]
  },
  {
   "cell_type": "code",
   "execution_count": 19,
   "id": "2792a5d2",
   "metadata": {},
   "outputs": [
    {
     "name": "stdout",
     "output_type": "stream",
     "text": [
      "tr list [<tr>\n",
      "<th><a href=\"/aside1\">항목1</a></th>\n",
      "<td>항목1값1</td>\n",
      "<td>항목1값2</td>\n",
      "</tr>, <tr>\n",
      "<th><a href=\"/aside2\">항목2</a></th>\n",
      "<td>항목2값1</td>\n",
      "<td>항목2값2</td>\n",
      "</tr>]\n"
     ]
    }
   ],
   "source": [
    "tr_list = soup.tbody.find_all(\"tr\")\n",
    "print(\"tr list\", tr_list)"
   ]
  },
  {
   "cell_type": "code",
   "execution_count": 20,
   "id": "1c849048",
   "metadata": {},
   "outputs": [
    {
     "name": "stdout",
     "output_type": "stream",
     "text": [
      "tr td 항목1값1\n",
      "tr td 항목1값2\n",
      "tr td 항목2값1\n",
      "tr td 항목2값2\n"
     ]
    }
   ],
   "source": [
    "for tr in tr_list:\n",
    "    for td in tr.find_all(\"td\"):\n",
    "        print(\"tr td\", td.string)"
   ]
  },
  {
   "cell_type": "code",
   "execution_count": null,
   "id": "e6962092",
   "metadata": {},
   "outputs": [],
   "source": []
  }
 ],
 "metadata": {
  "kernelspec": {
   "display_name": "Python 3 (ipykernel)",
   "language": "python",
   "name": "python3"
  },
  "language_info": {
   "codemirror_mode": {
    "name": "ipython",
    "version": 3
   },
   "file_extension": ".py",
   "mimetype": "text/x-python",
   "name": "python",
   "nbconvert_exporter": "python",
   "pygments_lexer": "ipython3",
   "version": "3.8.8"
  }
 },
 "nbformat": 4,
 "nbformat_minor": 5
}
